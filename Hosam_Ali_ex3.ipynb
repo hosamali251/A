{
  "nbformat": 4,
  "nbformat_minor": 0,
  "metadata": {
    "colab": {
      "provenance": []
    },
    "kernelspec": {
      "name": "python3",
      "display_name": "Python 3"
    },
    "language_info": {
      "name": "python"
    }
  },
  "cells": [
    {
      "cell_type": "markdown",
      "source": [
        "**link to github repositry:**"
      ],
      "metadata": {
        "id": "ANlfEAv1cdK5"
      }
    },
    {
      "cell_type": "markdown",
      "source": [
        "Exercise 3: Clustering"
      ],
      "metadata": {
        "id": "t1I0ncvTh3x8"
      }
    },
    {
      "cell_type": "markdown",
      "source": [
        "1. Function to create synthetic data - please do not change"
      ],
      "metadata": {
        "id": "J9Ek-Sro3Dfb"
      }
    },
    {
      "cell_type": "code",
      "source": [
        "import numpy as np\n",
        "from sklearn.datasets import make_blobs, make_moons\n",
        "import matplotlib.pyplot as plt\n",
        "from sklearn.cluster import KMeans, AgglomerativeClustering, DBSCAN\n",
        "from sklearn.metrics import silhouette_score\n",
        "\n",
        "\n",
        "def create_data(the_noise, n1_samples, n2_samples, n3_samples, n4_samples):\n",
        "  # 1\n",
        "  X_1, y_1 = make_blobs(\n",
        "    n_samples=n1_samples,\n",
        "    centers=4,\n",
        "    random_state=42)\n",
        "\n",
        "  # 2\n",
        "  X_2, y_2 = make_moons(\n",
        "      n_samples=n2_samples,\n",
        "      noise=the_noise,\n",
        "      random_state=42\n",
        "  )\n",
        "\n",
        "  X_2[:, 0] += 10\n",
        "  X_2[:, 1] += 10\n",
        "\n",
        "  # 3\n",
        "  rng = np.random.RandomState(42)\n",
        "  angles = rng.rand(n3_samples) * 2 * np.pi\n",
        "  r = 5.0 + rng.randn(n3_samples) * the_noise\n",
        "  X_3 = np.column_stack((r * np.cos(angles), r * np.sin(angles)))\n",
        "  X_3[:, 0] += 20\n",
        "\n",
        "\n",
        "  # combine\n",
        "  X = np.vstack((X_1, X_2, X_3))\n",
        "\n",
        "\n",
        "  return X"
      ],
      "metadata": {
        "id": "2sS2vcbN3MRc"
      },
      "execution_count": 85,
      "outputs": []
    },
    {
      "cell_type": "markdown",
      "source": [
        "2. Call create_data and visualize the data"
      ],
      "metadata": {
        "id": "tCHHt_25iA_4"
      }
    },
    {
      "cell_type": "code",
      "source": [
        "X = create_data(1.0, 1000, 50, 300, 200)\n",
        "\n",
        "# Data visuazliation is here:\n",
        "plt.figure(figsize=(6, 3))\n",
        "plt.scatter(X[:, 0], X[:, 1], c='green', s=5)\n",
        "plt.title(\"Data\")\n",
        "plt.show()"
      ],
      "metadata": {
        "id": "QbVFGbTWiI1W",
        "colab": {
          "base_uri": "https://localhost:8080/",
          "height": 314
        },
        "outputId": "2566444d-fb77-4376-e4cc-88e8787abd2b"
      },
      "execution_count": 86,
      "outputs": [
        {
          "output_type": "display_data",
          "data": {
            "text/plain": [
              "<Figure size 600x300 with 1 Axes>"
            ],
            "image/png": "[encoded data removed]"
          },
          "metadata": {}
        }
      ]
    },
    {
      "cell_type": "markdown",
      "source": [
        "3. Train KMeans\n",
        "- use library sklearn.cluster.KMeans\n",
        "- training data: X\n",
        "- explore and optimize KMeans options\n",
        "- choose the number of clusters using the Silhouette Method    "
      ],
      "metadata": {
        "id": "KxCenLz7hZmj"
      }
    },
    {
      "cell_type": "code",
      "source": [
        "k = 6\n",
        "max_iter = 40\n",
        "n_init = 10\n",
        "Silhouette_score = float('-inf')\n",
        "\n",
        "kmeans = KMeans(n_clusters=k, max_iter=max_iter, n_init=n_init)\n",
        "kmeans_labels = kmeans.fit_predict(X)\n",
        "\n",
        "if len(set(kmeans_labels)) > 1:\n",
        "    Silhouette_score = silhouette_score(X, kmeans_labels)\n",
        "\n",
        "kmeans_clusters = k\n",
        "kmeans_score=Silhouette_score\n",
        "print(\"number of clusters:\", kmeans_clusters)\n",
        "print(\"score:\", kmeans_score)"
      ],
      "metadata": {
        "id": "W8CWNt_2iZm4",
        "colab": {
          "base_uri": "https://localhost:8080/"
        },
        "outputId": "8c7bff3c-ec17-468f-89a5-0d3e87e7b337"
      },
      "execution_count": 87,
      "outputs": [
        {
          "output_type": "stream",
          "name": "stdout",
          "text": [
            "number of clusters: 6\n",
            "score: 0.7251181630059241\n"
          ]
        }
      ]
    },
    {
      "cell_type": "markdown",
      "source": [
        "4. Train Agglomerative Clustering\n",
        "\n",
        "- use library sklearn.cluster.AgglomerativeClustering\n",
        "- training data: X\n",
        "- explore and optimize AgglomerativeClustering options\n",
        "- choose the number of clusters using any method you want  "
      ],
      "metadata": {
        "id": "X__nmyElkPWs"
      }
    },
    {
      "cell_type": "code",
      "source": [
        "egglomerative_best_score = float('-inf')\n",
        "best_num_clusters = 2\n",
        "best_agglomerative = None\n",
        "metric = 'euclidean'\n",
        "linkage = 'ward'\n",
        "\n",
        "for num in range(2, 50):\n",
        "    egglomerative_clustering = AgglomerativeClustering(n_clusters=num, metric=metric, linkage=linkage)\n",
        "    egglomerative_labels = egglomerative_clustering.fit_predict(X)\n",
        "\n",
        "    score = silhouette_score(X, egglomerative_labels)\n",
        "\n",
        "    if score > egglomerative_best_score:\n",
        "        egglomerative_best_score = score\n",
        "        best_num_clusters = num\n",
        "        best_agglomerative = egglomerative_clustering\n",
        "\n",
        "egglomerative_clusters = best_num_clusters\n",
        "print(f\"number of clusters: {egglomerative_clusters}\")\n",
        "print(f\"score: {egglomerative_best_score}\")"
      ],
      "metadata": {
        "id": "6B4GKjlCkRdT",
        "colab": {
          "base_uri": "https://localhost:8080/"
        },
        "outputId": "ed56f145-76b9-4d0d-afd3-2a6a1a2a8cf4"
      },
      "execution_count": 89,
      "outputs": [
        {
          "output_type": "stream",
          "name": "stdout",
          "text": [
            "number of clusters: 6\n",
            "score: 0.7256900714288006\n"
          ]
        }
      ]
    },
    {
      "cell_type": "markdown",
      "source": [
        "5. Train DBSCAN\n",
        "- use library sklearn.cluster.DBSCAN\n",
        "- training data: X\n",
        "- explore and optimize DBSCAN options\n"
      ],
      "metadata": {
        "id": "4qOTlMrDkSBM"
      }
    },
    {
      "cell_type": "code",
      "source": [
        "epsilon = 1\n",
        "minimum_samples = 3\n",
        "\n",
        "# Use a different variable name, like 'dbScan', to create a new instance of the DBSCAN class\n",
        "dbScan_clustring = DBSCAN(eps=epsilon, min_samples=minimum_samples)\n",
        "dbScan_labels = dbScan_clustring.fit_predict(X)\n",
        "dbScan_clusters = len(set(dbScan_labels)) - (1 if -1 in dbScan_labels else 0)\n",
        "\n",
        "if dbScan_clusters > 1:\n",
        "    dbScan_score = silhouette_score(X, dbScan_labels)\n",
        "\n",
        "print(\"num of clusters:\", dbScan_clusters)\n",
        "print(\"score:\", dbScan_score)"
      ],
      "metadata": {
        "id": "Y5VGaDhJkYsL",
        "colab": {
          "base_uri": "https://localhost:8080/"
        },
        "outputId": "d800bac9-4f09-4e8e-fb95-b2cb1cc0d6a6"
      },
      "execution_count": 90,
      "outputs": [
        {
          "output_type": "stream",
          "name": "stdout",
          "text": [
            "num of clusters: 6\n",
            "score: 0.713499236081091\n"
          ]
        }
      ]
    },
    {
      "cell_type": "markdown",
      "source": [
        "6. Compare the results and choose the best method for the data\n"
      ],
      "metadata": {
        "id": "0AdCG5Pfta5S"
      }
    },
    {
      "cell_type": "code",
      "source": [
        "print(\"KMeans:\\n\", f\"\\t num Clusters: {kmeans_clusters}, Silhouette Score: {kmeans_score}\")\n",
        "print(\"\\n\")\n",
        "print(\"Agglomerative Clustering:\\n\", f\"\\t num Clusters: {egglomerative_clusters}, Best Silhouette Score: {egglomerative_best_score}\")\n",
        "print(\"\\n\")\n",
        "print(\"DBSCAN:\\n\", f\"\\t num Clusters: {dbScan_clusters}, Silhouette Score: {dbScan_score}\")\n",
        "\n",
        "scores = {\n",
        "    \"KMeans\": kmeans_score,\n",
        "    \"Agglomerative\": egglomerative_best_score,\n",
        "    \"DBSCAN\": dbScan_score\n",
        "}\n",
        "\n",
        "print(\"\\n\")\n",
        "best_method = max(scores, key=scores.get)\n",
        "print(f\"=> Best clustering method: {best_method}\")\n"
      ],
      "metadata": {
        "id": "dai0XNJFkwhx",
        "colab": {
          "base_uri": "https://localhost:8080/"
        },
        "outputId": "a2e8ea93-ab8a-4d4a-c812-fe66acd1d108"
      },
      "execution_count": 102,
      "outputs": [
        {
          "output_type": "stream",
          "name": "stdout",
          "text": [
            "KMeans:\n",
            " \t num Clusters: 6, Silhouette Score: 0.7251181630059241\n",
            "\n",
            "\n",
            "Agglomerative Clustering:\n",
            " \t num Clusters: 6, Best Silhouette Score: 0.7256900714288006\n",
            "\n",
            "\n",
            "DBSCAN:\n",
            " \t num Clusters: 6, Silhouette Score: 0.713499236081091\n",
            "\n",
            "\n",
            "=> Best clustering method: Agglomerative\n"
          ]
        }
      ]
    }
  ]
}